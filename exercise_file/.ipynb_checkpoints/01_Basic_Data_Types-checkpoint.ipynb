{
 "cells": [
  {
   "cell_type": "markdown",
   "id": "94bceb93-0278-4b3d-93e1-90c06163684d",
   "metadata": {},
   "source": [
    "# Basic Data Types"
   ]
  },
  {
   "cell_type": "markdown",
   "id": "893f0829-08e8-45fb-9e82-3be42e290f04",
   "metadata": {},
   "source": [
    "# Defining a Variable"
   ]
  },
  {
   "cell_type": "code",
   "execution_count": null,
   "id": "a9fe977c-7de9-4b1c-86b7-14e1dafa2052",
   "metadata": {},
   "outputs": [],
   "source": [
    "x = 20"
   ]
  },
  {
   "cell_type": "code",
   "execution_count": null,
   "id": "67db64b4-5423-43e0-9126-ef1f2c01e787",
   "metadata": {},
   "outputs": [],
   "source": [
    "print(x)"
   ]
  },
  {
   "cell_type": "code",
   "execution_count": null,
   "id": "44b847eb-6b31-4da6-8db6-638216cc1ee2",
   "metadata": {},
   "outputs": [],
   "source": [
    "x"
   ]
  },
  {
   "cell_type": "code",
   "execution_count": null,
   "id": "c4c8433e-942c-44f6-8fd6-f74ea84d71d8",
   "metadata": {},
   "outputs": [],
   "source": [
    "name = 'Theo'"
   ]
  },
  {
   "cell_type": "code",
   "execution_count": null,
   "id": "90e4fbda-b1da-448c-ab42-3d7fcf350c4c",
   "metadata": {},
   "outputs": [],
   "source": [
    "type(name)"
   ]
  },
  {
   "cell_type": "code",
   "execution_count": null,
   "id": "a69a1466-4767-4e72-9aec-51dee15057e8",
   "metadata": {},
   "outputs": [],
   "source": [
    "type(x)"
   ]
  },
  {
   "cell_type": "markdown",
   "id": "6a1d117f-48da-430a-be4c-00a5ccf9a089",
   "metadata": {},
   "source": [
    "# Numbers"
   ]
  },
  {
   "cell_type": "code",
   "execution_count": null,
   "id": "ec592ca9-5400-494c-8bbc-ddbd0f00f740",
   "metadata": {},
   "outputs": [],
   "source": [
    "type(1.5)"
   ]
  },
  {
   "cell_type": "code",
   "execution_count": null,
   "id": "486c1d31-4caa-4e05-9e74-99989071c17c",
   "metadata": {},
   "outputs": [],
   "source": [
    "1.23456789"
   ]
  },
  {
   "cell_type": "code",
   "execution_count": null,
   "id": "41e8370e-9f63-45c0-80c7-2f01f214fd73",
   "metadata": {},
   "outputs": [],
   "source": [
    "type(2j)"
   ]
  },
  {
   "cell_type": "code",
   "execution_count": null,
   "id": "a28478ad-48ec-4f86-b089-a707f9b532a0",
   "metadata": {},
   "outputs": [],
   "source": [
    "1j * 1j"
   ]
  },
  {
   "cell_type": "markdown",
   "id": "5b26b67c-b0b4-47b2-aaaf-9ffb0edc26b9",
   "metadata": {},
   "source": [
    "# Strings"
   ]
  },
  {
   "cell_type": "code",
   "execution_count": null,
   "id": "88535179-0412-4838-9756-243af1ea0ced",
   "metadata": {},
   "outputs": [],
   "source": [
    "'String 1 ' + 'String 2'"
   ]
  },
  {
   "cell_type": "code",
   "execution_count": null,
   "id": "9dec18ed-56c4-45eb-abd1-2ac5f8a1519c",
   "metadata": {},
   "outputs": [],
   "source": [
    "'1' + '1'"
   ]
  },
  {
   "cell_type": "code",
   "execution_count": null,
   "id": "fc44957a-4c4d-4471-9dcd-4a527f5bb643",
   "metadata": {},
   "outputs": [],
   "source": [
    "1 + 1"
   ]
  },
  {
   "cell_type": "code",
   "execution_count": null,
   "id": "2310cbe9-f4c5-445b-9881-c2cfa0d9ee1a",
   "metadata": {},
   "outputs": [],
   "source": [
    "'1' + 1"
   ]
  },
  {
   "cell_type": "markdown",
   "id": "0a482c5f-7eaa-45fd-84fb-e892165e4744",
   "metadata": {},
   "source": [
    "# Booleans"
   ]
  },
  {
   "cell_type": "code",
   "execution_count": null,
   "id": "24178d88-5e9c-49b9-b3bb-fe94f8f94fc2",
   "metadata": {},
   "outputs": [],
   "source": [
    "True"
   ]
  },
  {
   "cell_type": "code",
   "execution_count": null,
   "id": "20bea8b2-c0f9-4f3e-a8d4-78851d2ab765",
   "metadata": {},
   "outputs": [],
   "source": [
    "False"
   ]
  },
  {
   "cell_type": "code",
   "execution_count": null,
   "id": "60e3da55-6556-4929-a198-3d1f1ac3a6dd",
   "metadata": {},
   "outputs": [],
   "source": [
    "true = True"
   ]
  },
  {
   "cell_type": "code",
   "execution_count": null,
   "id": "777b06fc-eefa-4497-978d-550b3f4d1245",
   "metadata": {},
   "outputs": [],
   "source": [
    "1 == 1"
   ]
  },
  {
   "cell_type": "code",
   "execution_count": null,
   "id": "b6a5bb5a-68f6-4f2c-b2db-94a44cac7403",
   "metadata": {},
   "outputs": [],
   "source": [
    "0 >= 1"
   ]
  },
  {
   "cell_type": "code",
   "execution_count": null,
   "id": "d6baec62-f8f6-4c8f-9a0c-5e8b31ef987b",
   "metadata": {},
   "outputs": [],
   "source": [
    "1 == 2"
   ]
  }
 ],
 "metadata": {
  "kernelspec": {
   "display_name": "Python 3 (ipykernel)",
   "language": "python",
   "name": "python3"
  },
  "language_info": {
   "codemirror_mode": {
    "name": "ipython",
    "version": 3
   },
   "file_extension": ".py",
   "mimetype": "text/x-python",
   "name": "python",
   "nbconvert_exporter": "python",
   "pygments_lexer": "ipython3",
   "version": "3.12.5"
  }
 },
 "nbformat": 4,
 "nbformat_minor": 5
}
